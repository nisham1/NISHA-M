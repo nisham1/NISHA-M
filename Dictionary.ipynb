{
 "cells": [
  {
   "cell_type": "code",
   "execution_count": 2,
   "metadata": {},
   "outputs": [
    {
     "name": "stdout",
     "output_type": "stream",
     "text": [
      "{'one': 4, 'two': 2, 'three': 3}\n"
     ]
    }
   ],
   "source": [
    "dictionary= dict(one=1, two=2, three=3)\n",
    "dictionary['one']=4\n",
    "print(dictionary)"
   ]
  },
  {
   "cell_type": "code",
   "execution_count": 3,
   "metadata": {},
   "outputs": [
    {
     "data": {
      "text/plain": [
       "True"
      ]
     },
     "execution_count": 3,
     "metadata": {},
     "output_type": "execute_result"
    }
   ],
   "source": [
    ">>> a = dict(one=1, two=2, three=3)\n",
    ">>> b = {'one': 1, 'two': 2, 'three': 3}\n",
    ">>> c = dict(zip(['one', 'two', 'three'], [1, 2, 3]))\n",
    ">>> d = dict([('two', 2), ('one', 1), ('three', 3)])\n",
    ">>> e = dict({'three': 3, 'one': 1, 'two': 2})\n",
    ">>> f = dict({'one': 1, 'three': 3}, two=2)\n",
    ">>> a == b == c == d == e == f"
   ]
  },
  {
   "cell_type": "code",
   "execution_count": 4,
   "metadata": {},
   "outputs": [
    {
     "name": "stdout",
     "output_type": "stream",
     "text": [
      "['two', 'one', 'three']\n"
     ]
    }
   ],
   "source": [
    "## list(d)\n",
    "## Return a list of all the keys used in the dictionary d.\n",
    "\n",
    "print(list(d))"
   ]
  },
  {
   "cell_type": "code",
   "execution_count": 5,
   "metadata": {},
   "outputs": [
    {
     "name": "stdout",
     "output_type": "stream",
     "text": [
      "3\n"
     ]
    }
   ],
   "source": [
    "#len(d)\n",
    "#Return the number of items in the dictionary d.\n",
    "\n",
    "print(len(d))"
   ]
  },
  {
   "cell_type": "code",
   "execution_count": 6,
   "metadata": {},
   "outputs": [
    {
     "name": "stdout",
     "output_type": "stream",
     "text": [
      "1\n"
     ]
    }
   ],
   "source": [
    "#d[key]\n",
    "#Return the item of d with key key. Raises a KeyError if key is not in the map.\n",
    "\n",
    "print(d['one'])"
   ]
  },
  {
   "cell_type": "code",
   "execution_count": 7,
   "metadata": {},
   "outputs": [
    {
     "name": "stdout",
     "output_type": "stream",
     "text": [
      "0\n",
      "01\n"
     ]
    }
   ],
   "source": [
    ">>> class Counter(dict):\n",
    "...     def __missing__(self, key):\n",
    "...         return '0'\n",
    ">>> c = Counter()\n",
    ">>> print(c['red'])\n",
    "\n",
    ">>> c['red'] += '1'\n",
    ">>> print(c['red'])\n"
   ]
  },
  {
   "cell_type": "code",
   "execution_count": 8,
   "metadata": {},
   "outputs": [
    {
     "name": "stdout",
     "output_type": "stream",
     "text": [
      "{'two': 2, 'one': 1, 'three': 3, 'four': 4}\n"
     ]
    }
   ],
   "source": [
    "#d[key] = value\n",
    "#Set d[key] to value.\n",
    "\n",
    "d['four']=4\n",
    "\n",
    "print(d)"
   ]
  },
  {
   "cell_type": "code",
   "execution_count": 9,
   "metadata": {},
   "outputs": [
    {
     "name": "stdout",
     "output_type": "stream",
     "text": [
      "{'two': 2, 'three': 3, 'four': 4}\n"
     ]
    }
   ],
   "source": [
    "#del d[key]\n",
    "#Remove d[key] from d. Raises a KeyError if key is not in the map.\n",
    "\n",
    "del d['one']\n",
    "\n",
    "print(d)"
   ]
  },
  {
   "cell_type": "code",
   "execution_count": 10,
   "metadata": {},
   "outputs": [
    {
     "name": "stdout",
     "output_type": "stream",
     "text": [
      "True\n",
      "True\n"
     ]
    }
   ],
   "source": [
    "# MEMBERSHIP OPERATORS\n",
    "\n",
    "# key in d\n",
    "# Return True if d has a key key, else False.\n",
    "\n",
    "print ('four' in d)\n",
    "\n",
    "# key not in d\n",
    "# Equivalent to not key in d.\n",
    "print('one' not in d)"
   ]
  },
  {
   "cell_type": "code",
   "execution_count": 11,
   "metadata": {},
   "outputs": [
    {
     "name": "stdout",
     "output_type": "stream",
     "text": [
      "('two', 'three', 'four')\n"
     ]
    }
   ],
   "source": [
    "#iter(d)\n",
    "#Return an iterator over the keys of the dictionary. This is a shortcut for iter(d.keys()).\n",
    "\n",
    "print(tuple(iter(d)))"
   ]
  },
  {
   "cell_type": "code",
   "execution_count": 12,
   "metadata": {},
   "outputs": [
    {
     "name": "stdout",
     "output_type": "stream",
     "text": [
      "{'one': 1, 'two': 2, 'three': 3}\n",
      "None\n"
     ]
    }
   ],
   "source": [
    "#clear()\n",
    "#Remove all items from the dictionary.\n",
    "\n",
    "print(a)\n",
    "\n",
    "print(a.clear())"
   ]
  },
  {
   "cell_type": "code",
   "execution_count": 13,
   "metadata": {},
   "outputs": [],
   "source": [
    "#copy()\n",
    "#Return a shallow copy of the dictionary.\n",
    "\n",
    "copy1=d.copy()\n"
   ]
  },
  {
   "cell_type": "code",
   "execution_count": 14,
   "metadata": {},
   "outputs": [
    {
     "name": "stdout",
     "output_type": "stream",
     "text": [
      "2\n"
     ]
    }
   ],
   "source": [
    "#get(key[, default])\n",
    "#Return the value for key if key is in the dictionary,\n",
    "#else default. If default is not given, \n",
    "#it defaults to None, so that this method never raises a KeyError.\n",
    "\n",
    "print(d.get('two',\"Not Found\"))"
   ]
  },
  {
   "cell_type": "code",
   "execution_count": 15,
   "metadata": {},
   "outputs": [
    {
     "name": "stdout",
     "output_type": "stream",
     "text": [
      "dict_items([('two', 2), ('three', 3), ('four', 4)])\n"
     ]
    }
   ],
   "source": [
    "#items()\n",
    "#Return a new view of the dictionary’s items ((key, value) pairs)\n",
    "\n",
    "print(d.items())"
   ]
  },
  {
   "cell_type": "code",
   "execution_count": 16,
   "metadata": {},
   "outputs": [
    {
     "name": "stdout",
     "output_type": "stream",
     "text": [
      "dict_keys(['two', 'three', 'four'])\n"
     ]
    }
   ],
   "source": [
    "#keys()\n",
    "#Return a new view of the dictionary’s keys\n",
    "\n",
    "print(d.keys())"
   ]
  },
  {
   "cell_type": "code",
   "execution_count": 17,
   "metadata": {},
   "outputs": [
    {
     "name": "stdout",
     "output_type": "stream",
     "text": [
      "Not Found\n"
     ]
    }
   ],
   "source": [
    "#pop(key[, default])\n",
    "#If key is in the dictionary, \n",
    "#remove it and return its value, \n",
    "#else return default. \n",
    "#If default is not given and key is not in the dictionary, a KeyError is raised.\n",
    "\n",
    "print(d.pop('one',\"Not Found\"))"
   ]
  },
  {
   "cell_type": "code",
   "execution_count": 18,
   "metadata": {},
   "outputs": [
    {
     "name": "stdout",
     "output_type": "stream",
     "text": [
      "('four', 4)\n"
     ]
    }
   ],
   "source": [
    "#popitem()\n",
    "#Remove and return a (key, value) pair from the dictionary \n",
    "#Pairs are returned in LIFO order\n",
    "\n",
    "print(d.popitem())"
   ]
  },
  {
   "cell_type": "code",
   "execution_count": null,
   "metadata": {},
   "outputs": [],
   "source": [
    "#reversed(d)\n",
    "#Return a reverse iterator over the keys of the dictionary\n",
    "#This is a shortcut for reversed(d.keys()).\n",
    "#version - 3.9\n",
    "\n",
    "print(reversed(d))"
   ]
  },
  {
   "cell_type": "code",
   "execution_count": 19,
   "metadata": {},
   "outputs": [
    {
     "name": "stdout",
     "output_type": "stream",
     "text": [
      "Not Found\n"
     ]
    }
   ],
   "source": [
    "#setdefault(key[, default])\n",
    "#If key is in the dictionary, return its value\n",
    "#If not, insert key with a value of default and return default\n",
    "#default defaults to None.\n",
    "\n",
    "print(d.setdefault(\"one\",\"Not Found\"))"
   ]
  },
  {
   "cell_type": "code",
   "execution_count": 20,
   "metadata": {},
   "outputs": [
    {
     "name": "stdout",
     "output_type": "stream",
     "text": [
      "{'one': 2, 'two': 2, 'three': 3, 'four': 4}\n"
     ]
    }
   ],
   "source": [
    "#update([other])\n",
    "#Update the dictionary with the key/value pairs from other\n",
    "#overwriting existing keys. Return None.\n",
    "\n",
    "a={'one':2,'two':3,'three':4}\n",
    "\n",
    "a.update({'two':2,'three':3,'four':4})\n",
    "\n",
    "print(a)"
   ]
  },
  {
   "cell_type": "code",
   "execution_count": 21,
   "metadata": {},
   "outputs": [
    {
     "name": "stdout",
     "output_type": "stream",
     "text": [
      "dict_values([2, 2, 3, 4])\n"
     ]
    }
   ],
   "source": [
    "#values()\n",
    "#Return a new view of the dictionary’s values\n",
    "\n",
    "print(a.values())"
   ]
  },
  {
   "cell_type": "code",
   "execution_count": null,
   "metadata": {},
   "outputs": [],
   "source": [
    "#d | other\n",
    "\n",
    "#version 3.9\n",
    "\n",
    "new= a | d\n",
    "\n",
    "print(new)"
   ]
  },
  {
   "cell_type": "code",
   "execution_count": null,
   "metadata": {},
   "outputs": [],
   "source": [
    "#d |= other\n",
    "\n",
    "#version =3.9\n",
    "\n",
    "a | = d"
   ]
  }
 ],
 "metadata": {
  "kernelspec": {
   "display_name": "Python 3",
   "language": "python",
   "name": "python3"
  },
  "language_info": {
   "codemirror_mode": {
    "name": "ipython",
    "version": 3
   },
   "file_extension": ".py",
   "mimetype": "text/x-python",
   "name": "python",
   "nbconvert_exporter": "python",
   "pygments_lexer": "ipython3",
   "version": "3.7.4"
  }
 },
 "nbformat": 4,
 "nbformat_minor": 2
}
