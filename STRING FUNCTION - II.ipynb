{
 "cells": [
  {
   "cell_type": "markdown",
   "metadata": {},
   "source": [
    "# STRING FUNCTION - II"
   ]
  },
  {
   "cell_type": "code",
   "execution_count": 1,
   "metadata": {},
   "outputs": [
    {
     "name": "stdout",
     "output_type": "stream",
     "text": [
      "True\n",
      "True\n",
      "False\n",
      "True\n",
      "True\n",
      "False\n",
      "True\n",
      "True\n"
     ]
    }
   ],
   "source": [
    "#endswith \n",
    "\n",
    "#syntax : <string_variable>.endswith(suffix , start , end)\n",
    "\n",
    "s = 'String Functions in Python'\n",
    "\n",
    "# without start and end\n",
    "print(s.endswith('Python'))  # True\n",
    "\n",
    "# with start index\n",
    "print(s.endswith('Python', 2))  # True\n",
    "print(s.endswith('Python', 21))  # False # P in index position 20\n",
    "\n",
    "# with start and end index\n",
    "print(s.endswith('hon', 7, len(s)))  # True\n",
    "print(s.endswith('Pyt', 0, 23))  # True  Pyt in index 20-22\n",
    "print(s.endswith('String', 8))  # False\n",
    "\n",
    "# suffix as tuple\n",
    "print(s.endswith((\"init\",'in ',\" \", 'Python',\" \")))  # True\n",
    "print(s.endswith((\"Functions\",'in','Python'), 1, 26)) #True len(string)=26"
   ]
  },
  {
   "cell_type": "code",
   "execution_count": 2,
   "metadata": {},
   "outputs": [
    {
     "name": "stdout",
     "output_type": "stream",
     "text": [
      "True \n",
      "\n",
      "True \n",
      "\n",
      "True \n",
      "\n",
      "True \n",
      "\n",
      "False \n",
      "\n",
      "True \n",
      "\n"
     ]
    }
   ],
   "source": [
    "#endswith \n",
    "\n",
    "#syntax : <string_variable>.endswith(suffix , start , end)\n",
    "\n",
    "s=\"Hello World !\"\n",
    "\n",
    "print(s.endswith('!'),\"\\n\")\n",
    "\n",
    "print(s.endswith(\"World !\"),\"\\n\")\n",
    "\n",
    "print(s.endswith(\"Hello World !\"),\"\\n\")\n",
    "\n",
    "print(s.endswith(('r','l','d',' ','!'),1,12),\"\\n\")\n",
    "\n",
    "print(s.endswith(('r','l','d',' ','!'),1,8),\"\\n\")\n",
    "\n",
    "print(s.endswith(('r','l','q','c','b'),1,10),\"\\n\")\n"
   ]
  },
  {
   "cell_type": "code",
   "execution_count": 3,
   "metadata": {},
   "outputs": [
    {
     "name": "stdout",
     "output_type": "stream",
     "text": [
      "H       e       l       l       o\n",
      "H#######e#######l#######l#######o\n"
     ]
    }
   ],
   "source": [
    "#expandtabs\n",
    "\n",
    "#syntax : <string_variable>.expandtabs(tabsize=integer)\n",
    "\n",
    "s= \"H\\te\\tl\\tl\\to\"\n",
    "\n",
    "print(s.expandtabs())\n",
    "\n",
    "print(s.expandtabs().replace(\" \",\"#\"))"
   ]
  },
  {
   "cell_type": "code",
   "execution_count": 4,
   "metadata": {},
   "outputs": [
    {
     "name": "stdout",
     "output_type": "stream",
     "text": [
      "He      l       lo\n"
     ]
    }
   ],
   "source": [
    "\n",
    "s = 'He\\tl\\tlo'\n",
    "\n",
    "print(s.expandtabs())\n"
   ]
  },
  {
   "cell_type": "code",
   "execution_count": 5,
   "metadata": {},
   "outputs": [
    {
     "name": "stdout",
     "output_type": "stream",
     "text": [
      "Hello Wo        rld !\n",
      "Hello#Wo########rld#!\n",
      "Wo      rld\n",
      "Wo######rld\n"
     ]
    }
   ],
   "source": [
    "\n",
    "s = 'Hello Wo\\trld !'\n",
    "\n",
    "t=\"Wo\\trld\"\n",
    "\n",
    "print(s.expandtabs())\n",
    "\n",
    "print(s.expandtabs().replace(\" \",\"#\"))\n",
    "\n",
    "print(t.expandtabs())\n",
    "\n",
    "print(t.expandtabs().replace(\" \",\"#\"))"
   ]
  },
  {
   "cell_type": "code",
   "execution_count": 6,
   "metadata": {},
   "outputs": [
    {
     "data": {
      "text/plain": [
       "'01<><><><><><>012<><><><><>0123<><><><>01234'"
      ]
     },
     "execution_count": 6,
     "metadata": {},
     "output_type": "execute_result"
    }
   ],
   "source": [
    "\n",
    "'01\\t012\\t0123\\t01234'.expandtabs().replace(\" \",\"<>\")\n"
   ]
  },
  {
   "cell_type": "code",
   "execution_count": 7,
   "metadata": {},
   "outputs": [
    {
     "data": {
      "text/plain": [
       "'01<><>012<>0123<><><><>01234'"
      ]
     },
     "execution_count": 7,
     "metadata": {},
     "output_type": "execute_result"
    }
   ],
   "source": [
    "\n",
    "'01\\t012\\t0123\\t01234'.expandtabs(4).replace(\" \",\"<>\")\n"
   ]
  },
  {
   "cell_type": "code",
   "execution_count": 8,
   "metadata": {},
   "outputs": [
    {
     "name": "stdout",
     "output_type": "stream",
     "text": [
      "He\tllo\n",
      "He<><><><><><>llo\n",
      "Hello\n",
      "He<>llo\n",
      "He<><>llo\n",
      "He<>llo\n",
      "He<><>llo\n",
      "He<><><>llo\n",
      "He<><><><>llo\n",
      "He<><><><><>llo\n"
     ]
    }
   ],
   "source": [
    "\n",
    "s = 'He\\tllo'\n",
    "print(s)\n",
    "print((s.expandtabs()).replace(\" \",\"<>\"))\n",
    "print((s.expandtabs(tabsize=0)).replace(\" \",\"<>\"))\n",
    "print((s.expandtabs(tabsize=1)).replace(\" \",\"<>\"))\n",
    "print((s.expandtabs(tabsize=2)).replace(\" \",\"<>\"))\n",
    "print((s.expandtabs(tabsize=3)).replace(\" \",\"<>\"))\n",
    "print((s.expandtabs(tabsize=4)).replace(\" \",\"<>\"))\n",
    "print((s.expandtabs(tabsize=5)).replace(\" \",\"<>\"))\n",
    "print((s.expandtabs(tabsize=6)).replace(\" \",\"<>\"))\n",
    "print((s.expandtabs(tabsize=7)).replace(\" \",\"<>\"))\n"
   ]
  },
  {
   "cell_type": "code",
   "execution_count": 9,
   "metadata": {},
   "outputs": [
    {
     "name": "stdout",
     "output_type": "stream",
     "text": [
      "Hello\n",
      "Hello\n"
     ]
    }
   ],
   "source": [
    "\n",
    "s = 'He\\tllo'\n",
    "print(s.expandtabs(tabsize=-1))\n",
    "print(s.expandtabs(tabsize=-3))\n"
   ]
  },
  {
   "cell_type": "code",
   "execution_count": 10,
   "metadata": {},
   "outputs": [
    {
     "name": "stdout",
     "output_type": "stream",
     "text": [
      "3\n",
      "12\n",
      "19\n"
     ]
    }
   ],
   "source": [
    "#find\n",
    "\n",
    "#syntax : <string_variable>.find(sub[, start[, end]])\n",
    "\n",
    "s=\"String function in python\"\n",
    "\n",
    "print(s.find(\"i\"))\n",
    "\n",
    "print(s.find(\"i\",4,13))\n",
    "\n",
    "print(s.find(\"python\"))"
   ]
  },
  {
   "cell_type": "code",
   "execution_count": 11,
   "metadata": {},
   "outputs": [
    {
     "name": "stdout",
     "output_type": "stream",
     "text": [
      "Hello World !\n"
     ]
    }
   ],
   "source": [
    "#format\n",
    "\n",
    "#syntax : <string_variable>.format(argument , keywords)\n",
    "\n",
    "k=\"!\"\n",
    "\n",
    "s=\"Hello World {0}\"\n",
    "\n",
    "print(s.format(k))\n"
   ]
  }
 ],
 "metadata": {
  "kernelspec": {
   "display_name": "Python 3",
   "language": "python",
   "name": "python3"
  },
  "language_info": {
   "codemirror_mode": {
    "name": "ipython",
    "version": 3
   },
   "file_extension": ".py",
   "mimetype": "text/x-python",
   "name": "python",
   "nbconvert_exporter": "python",
   "pygments_lexer": "ipython3",
   "version": "3.8.5"
  }
 },
 "nbformat": 4,
 "nbformat_minor": 4
}
