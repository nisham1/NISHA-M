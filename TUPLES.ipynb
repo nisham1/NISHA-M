{
 "cells": [
  {
   "cell_type": "code",
   "execution_count": 1,
   "metadata": {},
   "outputs": [
    {
     "name": "stdout",
     "output_type": "stream",
     "text": [
      "1\n",
      "2\n",
      "3\n"
     ]
    }
   ],
   "source": [
    "#SEQUENCE DATA TYPES\n",
    "\n",
    "list1=[1,2,3]\n",
    "\n",
    "for i in range(len(list1)):\n",
    "    \n",
    "    print(list1[i])\n",
    "    "
   ]
  },
  {
   "cell_type": "code",
   "execution_count": 2,
   "metadata": {},
   "outputs": [
    {
     "name": "stdout",
     "output_type": "stream",
     "text": [
      "(1, 2, 3, 4)\n",
      "((1, 2), (3, 4))\n"
     ]
    }
   ],
   "source": [
    "#SEQUENCE OF COMMA SEPERATED VALUES\n",
    "\n",
    "tup=() #initializing a empty tuple\n",
    "\n",
    "t=1,2,3,4 #paranthesis is optional when we construct 1-d tuple\n",
    "\n",
    "r= (1,2),(3,4)\n",
    "\n",
    "print(t)\n",
    "\n",
    "print(r)"
   ]
  },
  {
   "cell_type": "code",
   "execution_count": 3,
   "metadata": {},
   "outputs": [
    {
     "ename": "SyntaxError",
     "evalue": "can't assign to function call (<ipython-input-3-a08b1dda7cf3>, line 3)",
     "output_type": "error",
     "traceback": [
      "\u001b[1;36m  File \u001b[1;32m\"<ipython-input-3-a08b1dda7cf3>\"\u001b[1;36m, line \u001b[1;32m3\u001b[0m\n\u001b[1;33m    t(0)= \"Zero\" #raises Syntax Error\u001b[0m\n\u001b[1;37m                                     ^\u001b[0m\n\u001b[1;31mSyntaxError\u001b[0m\u001b[1;31m:\u001b[0m can't assign to function call\n"
     ]
    }
   ],
   "source": [
    "#tuples are immutable in nature\n",
    "\n",
    "t(0)= \"Zero\" #raises Syntax Error"
   ]
  },
  {
   "cell_type": "code",
   "execution_count": 4,
   "metadata": {},
   "outputs": [
    {
     "name": "stdout",
     "output_type": "stream",
     "text": [
      "(1, 2, 3, 4, 5, 6)\n"
     ]
    }
   ],
   "source": [
    "#CONCATENATION\n",
    "\n",
    "tuple1=(1,2,3)\n",
    "\n",
    "tuple2=(4,5,6)\n",
    "\n",
    "tuple3=tuple1+tuple2\n",
    "\n",
    "print(tuple3)"
   ]
  },
  {
   "cell_type": "code",
   "execution_count": 5,
   "metadata": {},
   "outputs": [
    {
     "name": "stdout",
     "output_type": "stream",
     "text": [
      "(1, 2, 3, 1, 2, 3, 1, 2, 3, 1, 2, 3)\n"
     ]
    }
   ],
   "source": [
    "#repetition\n",
    "\n",
    "tuple1=(1,2,3)\n",
    "\n",
    "t3=tuple1*4\n",
    "\n",
    "print(t3)"
   ]
  },
  {
   "cell_type": "code",
   "execution_count": 6,
   "metadata": {},
   "outputs": [
    {
     "name": "stdout",
     "output_type": "stream",
     "text": [
      "\n",
      "Yes 2 is found in t\n",
      "\n",
      "Cannot find 5 in t !! Seems like it doesn't belong to tuple t\n"
     ]
    }
   ],
   "source": [
    "#MEMBERSHIP OPERATORS IN TUPLE - (in and not in)\n",
    "\n",
    "if 2 in t:\n",
    "    \n",
    "    print(\"\\nYes 2 is found in t\\n\")\n",
    "    \n",
    "if 5 not in t:\n",
    "    \n",
    "    print(\"Cannot find 5 in t !! Seems like it doesn't belong to tuple t\")"
   ]
  },
  {
   "cell_type": "code",
   "execution_count": 7,
   "metadata": {},
   "outputs": [
    {
     "name": "stdout",
     "output_type": "stream",
     "text": [
      "Accessing elements through indexing 1\n",
      "Accessing elements through indexing 2\n",
      "Accessing elements through indexing 3\n",
      "Accessing elements through indexing 4\n"
     ]
    }
   ],
   "source": [
    "#WE CAN USE RANGE FUNCTION , LEN FUNCTION IN TUPLE ,INDEXING IS ALSO POSSIBLE\n",
    "\n",
    "for i in range(len(t)):\n",
    "    \n",
    "    print(\"Accessing elements through indexing\",t[i])\n",
    "    \n"
   ]
  },
  {
   "cell_type": "code",
   "execution_count": 11,
   "metadata": {},
   "outputs": [
    {
     "name": "stdout",
     "output_type": "stream",
     "text": [
      "3\n",
      "1\n"
     ]
    }
   ],
   "source": [
    "#APPLYING MAX MIN IN TUPLES\n",
    "\n",
    "print(str(max(t))+\"\\n\"+str(min(t)))"
   ]
  },
  {
   "cell_type": "code",
   "execution_count": 6,
   "metadata": {},
   "outputs": [],
   "source": [
    "def cmp(a,b):\n",
    "    return (a>b) - (a<b)"
   ]
  },
  {
   "cell_type": "code",
   "execution_count": 7,
   "metadata": {},
   "outputs": [
    {
     "name": "stdout",
     "output_type": "stream",
     "text": [
      "-1\n",
      "0\n",
      "1\n"
     ]
    }
   ],
   "source": [
    "print(cmp((1,2,3),(4,2,3)))\n",
    "\n",
    "print(cmp((1,2,3),(1,2,3)))\n",
    "\n",
    "print(cmp((4,2,3),(1,2,3)))"
   ]
  },
  {
   "cell_type": "code",
   "execution_count": 13,
   "metadata": {},
   "outputs": [
    {
     "name": "stdout",
     "output_type": "stream",
     "text": [
      "1 <class 'int'>\n"
     ]
    }
   ],
   "source": [
    "t1=(1)\n",
    "\n",
    "print(t1,type(t1))"
   ]
  },
  {
   "cell_type": "code",
   "execution_count": 15,
   "metadata": {},
   "outputs": [
    {
     "name": "stdout",
     "output_type": "stream",
     "text": [
      "ant <class 'str'>\n"
     ]
    }
   ],
   "source": [
    "t2=(\"ant\")\n",
    "\n",
    "print(t2,type(t2))"
   ]
  },
  {
   "cell_type": "code",
   "execution_count": 19,
   "metadata": {},
   "outputs": [
    {
     "name": "stdout",
     "output_type": "stream",
     "text": [
      "(1,) <class 'tuple'>\n",
      "\n",
      "('ant',) <class 'tuple'>\n"
     ]
    }
   ],
   "source": [
    "t3=(1,) #trailing comma when tuple contains only one element\n",
    "\n",
    "t4=\"ant\",\n",
    "\n",
    "print(t3,type(t3))\n",
    "\n",
    "print(\"\\n\"+str(t4)+\" \"+str(type(t4)))"
   ]
  },
  {
   "cell_type": "code",
   "execution_count": 17,
   "metadata": {},
   "outputs": [
    {
     "name": "stdout",
     "output_type": "stream",
     "text": [
      "(1, 2, 3, 4)\n"
     ]
    }
   ],
   "source": [
    "t4=1,2,3,4,\n",
    "print(t4)"
   ]
  },
  {
   "cell_type": "code",
   "execution_count": 24,
   "metadata": {},
   "outputs": [
    {
     "name": "stdout",
     "output_type": "stream",
     "text": [
      "4\n"
     ]
    }
   ],
   "source": [
    "#unpacking a tuple\n",
    "\n",
    "t=1,2,3,4\n",
    "\n",
    "a,b,c,d = t\n",
    "\n",
    "print(d)\n"
   ]
  },
  {
   "cell_type": "code",
   "execution_count": 26,
   "metadata": {},
   "outputs": [
    {
     "name": "stdout",
     "output_type": "stream",
     "text": [
      "2\n"
     ]
    }
   ],
   "source": [
    "#unpacking nested tuples\n",
    "\n",
    "t=((1,2),(3,4))\n",
    "\n",
    "(a,b),(c,d)=t\n",
    "\n",
    "print(b)"
   ]
  },
  {
   "cell_type": "code",
   "execution_count": 4,
   "metadata": {},
   "outputs": [
    {
     "name": "stdout",
     "output_type": "stream",
     "text": [
      "Slicing a tuple from index 1 to 3 looks like  (2, 3)\n"
     ]
    }
   ],
   "source": [
    "#SLICING IS POSSIBLE IN TUPLE\n",
    "\n",
    "print(\"Slicing a tuple from index 1 to 3 looks like \",t[1:3]) \n",
    "\n",
    "#element at third index will not be printed\n",
    "\n"
   ]
  },
  {
   "cell_type": "code",
   "execution_count": 9,
   "metadata": {},
   "outputs": [
    {
     "name": "stdout",
     "output_type": "stream",
     "text": [
      "(3, 2, 1)\n"
     ]
    }
   ],
   "source": [
    "# NEGATIVE INDEX FOR TUPLE\n",
    "\n",
    "print(t[::-1]) #printing reverse values of tuple t"
   ]
  },
  {
   "cell_type": "code",
   "execution_count": 12,
   "metadata": {},
   "outputs": [
    {
     "name": "stdout",
     "output_type": "stream",
     "text": [
      "([0, 2], [3, 4])\n"
     ]
    }
   ],
   "source": [
    "#TUPLES CAN CONTAIN MUTABLE OBJECTS\n",
    "\n",
    "t=([1,2],[3,4])\n",
    "\n",
    "t[0][0]=0\n",
    "\n",
    "print(t)"
   ]
  }
 ],
 "metadata": {
  "kernelspec": {
   "display_name": "Python 3",
   "language": "python",
   "name": "python3"
  },
  "language_info": {
   "codemirror_mode": {
    "name": "ipython",
    "version": 3
   },
   "file_extension": ".py",
   "mimetype": "text/x-python",
   "name": "python",
   "nbconvert_exporter": "python",
   "pygments_lexer": "ipython3",
   "version": "3.7.4"
  }
 },
 "nbformat": 4,
 "nbformat_minor": 2
}
