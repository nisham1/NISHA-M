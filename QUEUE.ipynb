{
 "cells": [
  {
   "cell_type": "code",
   "execution_count": 1,
   "metadata": {},
   "outputs": [
    {
     "name": "stdout",
     "output_type": "stream",
     "text": [
      "After Insertion at rear end\n",
      " ['a', 'b', 'c', 'd']\n",
      "\n",
      "After Deletion at Front End\n",
      " ['b', 'c', 'd']\n"
     ]
    }
   ],
   "source": [
    "# INSERTION AT REAR END DELETION AT FRONT END\n",
    "\n",
    "queue_using_list= [\"a\",\"b\",\"c\"]\n",
    "\n",
    "queue_using_list.append(\"d\")\n",
    "\n",
    "print(\"After Insertion at rear end\\n\",queue_using_list)\n",
    "\n",
    "queue_using_list.pop(0)\n",
    "\n",
    "print(\"\\nAfter Deletion at Front End\\n\",queue_using_list)"
   ]
  },
  {
   "cell_type": "code",
   "execution_count": 2,
   "metadata": {},
   "outputs": [
    {
     "name": "stdout",
     "output_type": "stream",
     "text": [
      "It looks similar to list\n",
      " deque([])\n"
     ]
    }
   ],
   "source": [
    "#THE ABOVE PROCESS TAKES O(n) SO WE USE DEQUEUE \n",
    "\n",
    "# DEQUEUE HAS MANY OPERATIONS WHICH ARE DEMONSTRATED BELOW\n",
    "\n",
    "from collections import deque\n",
    "\n",
    "dequeue_using_collections = deque()\n",
    "\n",
    "print(\"It looks similar to list\\n\",dequeue_using_collections)"
   ]
  },
  {
   "cell_type": "code",
   "execution_count": 3,
   "metadata": {},
   "outputs": [
    {
     "name": "stdout",
     "output_type": "stream",
     "text": [
      "Deque after performing Append\n",
      " deque(['Element 1'])\n"
     ]
    }
   ],
   "source": [
    "#FIRST FUNCTION OF DEQUEUE IS APPEND \n",
    "\n",
    "#ADDS ELEMENTS TO REAR END OF DEQUEUE\n",
    "\n",
    "dequeue_using_collections.append(\"Element 1\")\n",
    "\n",
    "print(\"Deque after performing Append\\n\",dequeue_using_collections)"
   ]
  },
  {
   "cell_type": "code",
   "execution_count": 4,
   "metadata": {},
   "outputs": [
    {
     "name": "stdout",
     "output_type": "stream",
     "text": [
      "Dequeue after performing appendleft\n",
      " deque(['Element 0', 'Element 1'])\n"
     ]
    }
   ],
   "source": [
    "#SECOND FUNCTION OF DEQUEUE IS APPENDLEFT\n",
    "\n",
    "#INSERTS ELEMENT AT INDEX 0 IN O(1)\n",
    "\n",
    "dequeue_using_collections.appendleft(\"Element 0\")\n",
    "\n",
    "print(\"Dequeue after performing appendleft\\n\",dequeue_using_collections)"
   ]
  },
  {
   "cell_type": "code",
   "execution_count": 5,
   "metadata": {},
   "outputs": [
    {
     "name": "stdout",
     "output_type": "stream",
     "text": [
      "Dequeue after performing clear\n",
      " deque([])\n"
     ]
    }
   ],
   "source": [
    "#THIRD FUNCTION IN DEQUEUE IS CLEAR \n",
    "\n",
    "# IT DELETES ALL THE ELEMENTS AND MAKES THE VARIABLE A DEQUEUE OF LENGTH 0\n",
    "\n",
    "dequeue_using_collections.clear()\n",
    "\n",
    "print(\"Dequeue after performing clear\\n\",dequeue_using_collections)"
   ]
  },
  {
   "cell_type": "code",
   "execution_count": 6,
   "metadata": {},
   "outputs": [
    {
     "name": "stdout",
     "output_type": "stream",
     "text": [
      "Dequeue after creating a shallow copy\n",
      "\n",
      " deque([['ELEMENT ORIGINAL DEQUEUE', 'this is a shallow copy']])\n",
      "\n",
      "changes are reflected in the original object\n"
     ]
    }
   ],
   "source": [
    "#FOURTH FUNCTION IN DEQUEUE IS COPY\n",
    "\n",
    "#AS DISCUSSED EARLIER IT CREATES A SHALLOW COPY OF THE DEQUEUE VARIABLE \n",
    "\n",
    "dequeue_using_collections.append([\"ELEMENT ORIGINAL DEQUEUE\",\"Sample to show shallow copy\"])\n",
    "\n",
    "dequeue_shallow=dequeue_using_collections.copy()\n",
    "\n",
    "dequeue_shallow[0][1]=\"this is a shallow copy\"\n",
    "\n",
    "print(\"Dequeue after creating a shallow copy\\n\\n\",dequeue_using_collections)\n",
    "\n",
    "print(\"\\nchanges are reflected in the original object\")"
   ]
  },
  {
   "cell_type": "code",
   "execution_count": 7,
   "metadata": {},
   "outputs": [
    {
     "name": "stdout",
     "output_type": "stream",
     "text": [
      "Count of 3 and 30 in dequeue is\n",
      "  1 0\n"
     ]
    }
   ],
   "source": [
    "#FIFTH FUNCTION IN DEQUEUE IS COUNT\n",
    "\n",
    "#IT COUNTS THE NUMBER OF ELEMENTS WHICH IS EQUAL TO THE PROVIDED ARGUMENT\n",
    "\n",
    "dequeue_using_collections.clear()\n",
    "\n",
    "dequeue_using_collections.append(1)\n",
    "\n",
    "dequeue_using_collections.append(2)\n",
    "\n",
    "dequeue_using_collections.append(3)\n",
    "\n",
    "dequeue_using_collections.append(4)\n",
    "\n",
    "print(\"Count of 3 and 30 in dequeue is\\n \",dequeue_using_collections.count(3),dequeue_using_collections.count(30))"
   ]
  },
  {
   "cell_type": "code",
   "execution_count": 8,
   "metadata": {},
   "outputs": [
    {
     "name": "stdout",
     "output_type": "stream",
     "text": [
      "Dequeue after extending it with a list\n",
      " deque([1, 2, 3])\n",
      "Dequeue after extending it with a set\n",
      " deque([1, 2, 3, 4, 5])\n",
      "Dequeue after extending it with a tuple\n",
      " deque([1, 2, 3, 4, 5, 6, 7, 8])\n",
      "Dequeue after extending it with a string\n",
      " deque([1, 2, 3, 4, 5, 6, 7, 8, 'a', 'b', 'c'])\n",
      "Dequeue after extending it with a dictionary\n",
      " deque([1, 2, 3, 4, 5, 6, 7, 8, 'a', 'b', 'c', 'a1', 'b1', 'c1'])\n"
     ]
    }
   ],
   "source": [
    "#SIXTH FUNCTION IN DEQUEUE IS EXTEND\n",
    "\n",
    "#IT TAKES EVERY ELEMENT FROM THE ITERABLE AND APPENDS IT TO THE RIGHT END OF THE DEQUEUE\n",
    "\n",
    "#EXTENDING A LIST TO DEQUEUE \n",
    "\n",
    "dequeue_using_collections.clear()\n",
    "\n",
    "dequeue_using_collections.extend([1,2,3])\n",
    "\n",
    "print(\"Dequeue after extending it with a list\\n\",dequeue_using_collections)\n",
    "\n",
    "dequeue_using_collections.extend({4,4,5})\n",
    "\n",
    "print(\"Dequeue after extending it with a set\\n\",dequeue_using_collections)\n",
    "\n",
    "dequeue_using_collections.extend((6,7,8))\n",
    "\n",
    "print(\"Dequeue after extending it with a tuple\\n\",dequeue_using_collections)\n",
    "\n",
    "dequeue_using_collections.extend(\"abc\")\n",
    "\n",
    "print(\"Dequeue after extending it with a string\\n\",dequeue_using_collections)\n",
    "\n",
    "dequeue_using_collections.extend({\"a1\":18,\"b1\":8,\"c1\":9})\n",
    "\n",
    "print(\"Dequeue after extending it with a dictionary\\n\",dequeue_using_collections)"
   ]
  },
  {
   "cell_type": "code",
   "execution_count": 9,
   "metadata": {},
   "outputs": [
    {
     "name": "stdout",
     "output_type": "stream",
     "text": [
      "Dequeue after performing extendleft  with a list\n",
      " deque([3, 2, 1])\n",
      "Dequeue after performing extendleft  with a set\n",
      " deque([5, 4, 3, 2, 1])\n",
      "Dequeue after performing extendleft  with a tuperformingle\n",
      " deque([8, 7, 6, 5, 4, 3, 2, 1])\n",
      "Dequeue after performing extendleft  with a string\n",
      " deque(['c', 'b', 'a', 8, 7, 6, 5, 4, 3, 2, 1])\n",
      "Dequeue after performing extendleft  with a dictionary\n",
      " deque(['c1', 'b1', 'a1', 'c', 'b', 'a', 8, 7, 6, 5, 4, 3, 2, 1])\n"
     ]
    }
   ],
   "source": [
    "#SEVENTH FUNCTION IN DEQUEUE IS extendleft\n",
    "\n",
    "#TAKES EVERY ELEMENT FROM THE ITERABLE AND INSERTS  IN FIRST POSITION\n",
    "\n",
    "#AND THEREFORE THE ORDER IS REVERSED\n",
    "\n",
    "dequeue_using_collections.clear()\n",
    "\n",
    "dequeue_using_collections.extendleft([1,2,3])\n",
    "\n",
    "print(\"Dequeue after performing extendleft  with a list\\n\",dequeue_using_collections)\n",
    "\n",
    "dequeue_using_collections.extendleft({4,4,5})\n",
    "\n",
    "print(\"Dequeue after performing extendleft  with a set\\n\",dequeue_using_collections)\n",
    "\n",
    "dequeue_using_collections.extendleft((6,7,8))\n",
    "\n",
    "print(\"Dequeue after performing extendleft  with a tuperformingle\\n\",dequeue_using_collections)\n",
    "\n",
    "dequeue_using_collections.extendleft(\"abc\")\n",
    "\n",
    "print(\"Dequeue after performing extendleft  with a string\\n\",dequeue_using_collections)\n",
    "\n",
    "dequeue_using_collections.extendleft({\"a1\":18,\"b1\":8,\"c1\":9})\n",
    "\n",
    "print(\"Dequeue after performing extendleft  with a dictionary\\n\",dequeue_using_collections)\n"
   ]
  },
  {
   "cell_type": "code",
   "execution_count": 10,
   "metadata": {},
   "outputs": [
    {
     "name": "stdout",
     "output_type": "stream",
     "text": [
      "Index of c1 from 1 to 4 will give raise to value error\n",
      " 0\n",
      "Index of 3 in index from 10 t0 12 is\n",
      " 11\n"
     ]
    }
   ],
   "source": [
    "#EIGHTH FUNCTION IN DEQUEUE IS INDEX\n",
    "\n",
    "#IT RETURN THE INDEX OF THE ELEMENT FROM INDEX START TO STOP-1 START IS 0 BY DEFAULT AND STOP IS LEN OF DEQUEUE\n",
    "\n",
    "print(\"Index of c1 from 1 to 4 will give raise to value error\\n\",dequeue_using_collections.index(\"c1\",0,5))\n",
    "\n",
    "print(\"Index of 3 in index from 10 t0 12 is\\n\",dequeue_using_collections.index(3,10,13))\n"
   ]
  },
  {
   "cell_type": "code",
   "execution_count": 11,
   "metadata": {},
   "outputs": [
    {
     "name": "stdout",
     "output_type": "stream",
     "text": [
      "Deque now can hold only three elements\n",
      " deque([1, 2, 3], maxlen=3)\n",
      "\n",
      "Deque now can hold only three elements\n",
      " deque([2, 3, 4], maxlen=3)\n",
      "\n",
      "Deque now can hold only three elements\n",
      " deque([3, 4, 5], maxlen=3)\n",
      "\n",
      "Deque now can hold only three elements\n",
      " deque([4, 5, 6], maxlen=3)\n",
      "\n",
      "WE can observe at any point the deque contains only three elements\n",
      "\n",
      "It also automatically pops a elements and inserts the new element when len is greater than maxlen\n"
     ]
    }
   ],
   "source": [
    "#NINTH FUNCTION IN DEQUEUE IS MAXLEN\n",
    "\n",
    "#IT SPECIFIES THE MAXIMUM LENGTH UPTO WHICH THE DEQUEUE CAN GROW OR NONE IF DEQUEUE IS UNBOUND\n",
    "\n",
    "new_queue=deque(maxlen=3)\n",
    "\n",
    "new_queue.append(1)\n",
    "\n",
    "new_queue.append(2)\n",
    "\n",
    "new_queue.append(3)\n",
    "\n",
    "print(\"Deque now can hold only three elements\\n\",new_queue)\n",
    "\n",
    "new_queue.append(4)\n",
    "\n",
    "print(\"\\nDeque now can hold only three elements\\n\",new_queue)\n",
    "\n",
    "new_queue.append(5)\n",
    "\n",
    "print(\"\\nDeque now can hold only three elements\\n\",new_queue)\n",
    "\n",
    "new_queue.append(6)\n",
    "\n",
    "print(\"\\nDeque now can hold only three elements\\n\",new_queue)\n",
    "\n",
    "print(\"\\nWE can observe at any point the deque contains only three elements\\n\")\n",
    "\n",
    "print(\"It also automatically pops a elements and inserts the new element when len is greater than maxlen\")"
   ]
  },
  {
   "cell_type": "code",
   "execution_count": 17,
   "metadata": {},
   "outputs": [
    {
     "name": "stdout",
     "output_type": "stream",
     "text": [
      "Dequeue after insertion of string Zero at index 0 is\n",
      " deque(['Zero', 2, 3, 4, 5, 6, 7, 8, 'a', 'b', 'c', 'a1', 'b1', 'c1'])\n"
     ]
    }
   ],
   "source": [
    "#TENTH FUNCTION IN DEQUEUE IS INSERT \n",
    "\n",
    "#IT INSERTS THE ELEMENT (GIVEN AS SECOND ARGUMENT) TO THE INDEX WHICH IS GIVEN AS FIRST ARGUMENT\n",
    "\n",
    "dequeue_using_collections.insert(0,\"Zero\")\n",
    "\n",
    "print(\"Dequeue after insertion of string Zero at index 0 is\\n\",dequeue_using_collections)"
   ]
  },
  {
   "cell_type": "code",
   "execution_count": 20,
   "metadata": {},
   "outputs": [
    {
     "name": "stdout",
     "output_type": "stream",
     "text": [
      "Deque's right most element which is popped is\n",
      " b1\n"
     ]
    }
   ],
   "source": [
    "#ELEVENTH FUNCTION IN DEQUEUE IS POP\n",
    "\n",
    "#REMOVES ELEMENT FROM RIGHT SIDE OF DEQUEUE AND RETURNS INDEXERROR IF DEQUEUE IS EMPTY\n",
    "\n",
    "print(\"Deque's right most element which is popped is\\n\",dequeue_using_collections.pop())"
   ]
  },
  {
   "cell_type": "code",
   "execution_count": 19,
   "metadata": {},
   "outputs": [
    {
     "name": "stdout",
     "output_type": "stream",
     "text": [
      "Deque's left most element which is popped is\n",
      " Zero\n"
     ]
    }
   ],
   "source": [
    "#TWELFTH FUNCTION IN DEQUEUE IS POPLEFT\n",
    "\n",
    "#IT REMOVES ELEMENT FROM THE LEFT END OF DEQUEUE\n",
    "\n",
    "print(\"Deque's left most element which is popped is\\n\",dequeue_using_collections.popleft())"
   ]
  },
  {
   "cell_type": "code",
   "execution_count": 22,
   "metadata": {},
   "outputs": [
    {
     "name": "stdout",
     "output_type": "stream",
     "text": [
      "Dequeue after removing Zero is\n",
      " deque([2, 4, 5, 6, 7, 8, 'a', 'b', 'c', 'a1'])\n"
     ]
    }
   ],
   "source": [
    "#THIRTEENTH FUNCTION IN DEQUEUE IS REMOVE\n",
    "\n",
    "#IT REMOVES THE ELEMENT WHICH IS GIVEN AS ARGUMENT\n",
    "\n",
    "#PRODUCES VALUEERROR IF NOT FOUND\n",
    "\n",
    "#MULTIPLE OCCURANCE OF STRING \"ZERO\" IS REMOVED\n",
    "\n",
    "dequeue_using_collections.remove(3)\n",
    "\n",
    "print(\"Dequeue after removing Zero is\\n\",dequeue_using_collections)"
   ]
  },
  {
   "cell_type": "code",
   "execution_count": 23,
   "metadata": {},
   "outputs": [
    {
     "name": "stdout",
     "output_type": "stream",
     "text": [
      "New Reversed Dequeue is\n",
      " deque(['a1', 'c', 'b', 'a', 8, 7, 6, 5, 4, 2])\n"
     ]
    }
   ],
   "source": [
    "#FOURTEENTH FUNCTION IN DEQUEUE IS REVERSE\n",
    "\n",
    "#IT REVERSES THE WHOLE DEQUEUE AND RETURNS NONE\n",
    "\n",
    "dequeue_using_collections.reverse()\n",
    "\n",
    "print(\"New Reversed Dequeue is\\n\",dequeue_using_collections)"
   ]
  },
  {
   "cell_type": "code",
   "execution_count": 24,
   "metadata": {},
   "outputs": [
    {
     "name": "stdout",
     "output_type": "stream",
     "text": [
      "Dequeue after 2 rotation\n",
      " deque([4, 2, 'a1', 'c', 'b', 'a', 8, 7, 6, 5])\n"
     ]
    }
   ],
   "source": [
    "#FIFTEENTH FUNCTION IN DEQUEUE IS ROTATE\n",
    "\n",
    "#IT ROTATES THE DEQUEUE N TIMES IN CLOCKWISE DIRECTION IF N IS POSITIVE\n",
    "\n",
    "dequeue_using_collections.rotate(2)\n",
    "\n",
    "print(\"Dequeue after 2 rotation\\n\",dequeue_using_collections)"
   ]
  },
  {
   "cell_type": "code",
   "execution_count": 25,
   "metadata": {},
   "outputs": [
    {
     "name": "stdout",
     "output_type": "stream",
     "text": [
      "Dequeue after 2 rotation\n",
      " deque(['a1', 'c', 'b', 'a', 8, 7, 6, 5, 4, 2])\n"
     ]
    }
   ],
   "source": [
    "#FIFTEENTH FUNCTION IN DEQUEUE IS ROTATE\n",
    "\n",
    "#IT ROTATES THE DEQUEUE N TIMES IN ANTICLOCKWISE DIRECTION IF N IS NEGATIVE\n",
    "\n",
    "dequeue_using_collections.rotate(-2)\n",
    "\n",
    "print(\"Dequeue after 2 rotation\\n\",dequeue_using_collections)"
   ]
  },
  {
   "cell_type": "code",
   "execution_count": 26,
   "metadata": {},
   "outputs": [
    {
     "name": "stdout",
     "output_type": "stream",
     "text": [
      "Dequeue after 2 rotation\n",
      " deque([4, 2, 'a1', 'c', 'b', 'a', 8, 7, 6, 5])\n"
     ]
    }
   ],
   "source": [
    "#ALTERNATE FUNCTION FOR POSITIVE ROTATION USING DEQUEUE FUNCTIONS\n",
    "\n",
    "#POP ELEMENT FROM RIGHT AND APPEND IT USING APPENDLEFT AND THIS IS DONE IN LOOP FOR N ROTATIONS\n",
    "\n",
    "dequeue_using_collections.appendleft(dequeue_using_collections.pop())\n",
    "\n",
    "dequeue_using_collections.appendleft(dequeue_using_collections.pop())\n",
    "\n",
    "print(\"Dequeue after 2 rotation\\n\",dequeue_using_collections)"
   ]
  },
  {
   "cell_type": "code",
   "execution_count": 27,
   "metadata": {},
   "outputs": [
    {
     "name": "stdout",
     "output_type": "stream",
     "text": [
      "Dequeue after 2 rotation\n",
      " deque(['a1', 'c', 'b', 'a', 8, 7, 6, 5, 4, 2])\n"
     ]
    }
   ],
   "source": [
    "#ALTERNATE FUNCTION FOR NEGATIVE ROTATION USING DEQUEUE FUNCTIONS\n",
    "\n",
    "#POPLEFT TO POP ELEMENT FROM RIGHT AND APPEND IT TO DEQUEUE AND THIS IS DONE IN LOOP FOR N ROTATIONS\n",
    "\n",
    "dequeue_using_collections.append(dequeue_using_collections.popleft())\n",
    "\n",
    "dequeue_using_collections.append(dequeue_using_collections.popleft())\n",
    "\n",
    "print(\"Dequeue after 2 rotation\\n\",dequeue_using_collections)"
   ]
  },
  {
   "cell_type": "code",
   "execution_count": 33,
   "metadata": {},
   "outputs": [
    {
     "name": "stdout",
     "output_type": "stream",
     "text": [
      "New dequeue after addition is\n",
      " deque([[1, 2], [3, 4], [4, 5], [6, 7]])\n"
     ]
    }
   ],
   "source": [
    "#ADD IN DEQUEUE\n",
    "new_one=deque([[1,2],[3,4]])\n",
    "new_two=deque([[4,5],[6,7]])\n",
    "\n",
    "print(\"New dequeue after addition is\\n\",new_one.__add__(new_two))"
   ]
  }
 ],
 "metadata": {
  "kernelspec": {
   "display_name": "Python 3",
   "language": "python",
   "name": "python3"
  },
  "language_info": {
   "codemirror_mode": {
    "name": "ipython",
    "version": 3
   },
   "file_extension": ".py",
   "mimetype": "text/x-python",
   "name": "python",
   "nbconvert_exporter": "python",
   "pygments_lexer": "ipython3",
   "version": "3.7.4"
  }
 },
 "nbformat": 4,
 "nbformat_minor": 2
}
