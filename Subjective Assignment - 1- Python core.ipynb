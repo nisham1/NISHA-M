{
 "cells": [
  {
   "cell_type": "markdown",
   "metadata": {},
   "source": [
    "Q1. Write a Python program to get the string from the given string where\n",
    "all the occurrence of its first char has been changed to '$,' except first\n",
    "char itself?\n",
    "\n",
    "    Sample String: 'prospect'\n",
    "    Expected Result : 'pros$ect'\n"
   ]
  },
  {
   "cell_type": "code",
   "execution_count": 9,
   "metadata": {},
   "outputs": [
    {
     "name": "stdout",
     "output_type": "stream",
     "text": [
      "prospect\n",
      "pros$ect\n"
     ]
    }
   ],
   "source": [
    "s=input()\n",
    "i=0\n",
    "n=''\n",
    "while True:\n",
    "    n+=s[i]\n",
    "    i+=1\n",
    "    if(i==len(s)):\n",
    "        break\n",
    "    if(s[i]==s[0]):\n",
    "        n+='$'\n",
    "        i+=1\n",
    "    \n",
    "print(n)"
   ]
  },
  {
   "cell_type": "markdown",
   "metadata": {},
   "source": [
    "Q2. Write a Python program to get the single string from the two given\n",
    "strings, and separated by the space and swap the first two characters of\n",
    "each string?\n",
    "\n",
    "    Sample String : 'abc', 'xyz'.\n",
    "    Expected Result: 'xyc abz'"
   ]
  },
  {
   "cell_type": "code",
   "execution_count": 12,
   "metadata": {},
   "outputs": [
    {
     "name": "stdout",
     "output_type": "stream",
     "text": [
      "abc\n",
      "xyz\n",
      "xyc abz\n"
     ]
    }
   ],
   "source": [
    "\n",
    "i=(input())\n",
    "j=input()\n",
    "def p(i,j):\n",
    "    print(j[:2]+i[2:]+\" \"+i[:2]+j[2:])\n",
    "p(i,j)"
   ]
  },
  {
   "cell_type": "markdown",
   "metadata": {},
   "source": [
    "Q3. Write the Python program to add 'ing' at the end of the given string\n",
    "(length of the string should be at least 3). If given string already ends\n",
    "with 'ing,' then add 'ly' instead. If string length of the given string is less\n",
    "than 3, leave it unchanged?\n",
    "\n",
    "\n",
    "    Sample string: ' abc '\n",
    "    Expected result: ' abcing '\n",
    "    Sample string: ' string '\n",
    "    Expected result: ' stringly '\n"
   ]
  },
  {
   "cell_type": "code",
   "execution_count": 14,
   "metadata": {},
   "outputs": [
    {
     "name": "stdout",
     "output_type": "stream",
     "text": [
      "string\n",
      "stringly\n"
     ]
    }
   ],
   "source": [
    "i=input()\n",
    "if(i[-3:]=='ing'):\n",
    "    print(i+'ly')\n",
    "else:\n",
    "    print(i+'ing')"
   ]
  },
  {
   "cell_type": "markdown",
   "metadata": {},
   "source": [
    "Q4. Write the Python program to find the first appearance of the\n",
    "substring 'not' and 'poor' from the given string, if 'not' follows the 'poor',\n",
    "replace the whole 'not'...' poor' substring with 'good'.Return the resulting\n",
    "string.\n",
    "\n",
    "    Sample string: 'The lyrics are not that poor!'\n",
    "    'The lyrics are poor!'\n",
    "    Expected Result: 'The lyrics are good!'\n",
    "    'The lyrics are poor!'"
   ]
  },
  {
   "cell_type": "code",
   "execution_count": 20,
   "metadata": {},
   "outputs": [
    {
     "name": "stdout",
     "output_type": "stream",
     "text": [
      "The lyrics are good!\n",
      "The lyrics are poor!\n"
     ]
    }
   ],
   "source": [
    "i=input()\n",
    "n=i.find('not')\n",
    "p=i.find('poor')\n",
    "g=i.find('good')\n",
    "if(n<p):\n",
    "    o=i[:n]+'good'+i[p+4:]\n",
    "    i=o\n",
    "if(g!=-1):\n",
    "    o=i[:g]+'poor'+i[g+4]\n",
    "    i=o\n",
    "print(i)"
   ]
  },
  {
   "cell_type": "markdown",
   "metadata": {},
   "source": [
    "Q5. Write the Python program to remove the characters which have odd\n",
    "index values of a given string."
   ]
  },
  {
   "cell_type": "code",
   "execution_count": 24,
   "metadata": {},
   "outputs": [
    {
     "name": "stdout",
     "output_type": "stream",
     "text": [
      "0123456789\n",
      "02468\n"
     ]
    }
   ],
   "source": [
    "i=input()\n",
    "print(i[::2])"
   ]
  },
  {
   "cell_type": "markdown",
   "metadata": {},
   "source": [
    "Q6. Write the python program to print the following floating numbers up\n",
    "to 2 decimal places?"
   ]
  },
  {
   "cell_type": "code",
   "execution_count": 2,
   "metadata": {},
   "outputs": [
    {
     "name": "stdout",
     "output_type": "stream",
     "text": [
      "13.6789123\n",
      "13.68\n"
     ]
    }
   ],
   "source": [
    "f=float(input())\n",
    "print(\"%0.2f\"%round(f,2))"
   ]
  },
  {
   "cell_type": "markdown",
   "metadata": {},
   "source": [
    "Q7. Write the Python program to format a number with a percentage?"
   ]
  },
  {
   "cell_type": "code",
   "execution_count": 3,
   "metadata": {},
   "outputs": [
    {
     "name": "stdout",
     "output_type": "stream",
     "text": [
      "11.6789543567\n",
      "11.678954\n"
     ]
    }
   ],
   "source": [
    "j=float(input())\n",
    "print(\"%0.6f\"%round(j,6))"
   ]
  },
  {
   "cell_type": "markdown",
   "metadata": {},
   "source": [
    "Q8. Write the Python program to count occurrences of a substring in a\n",
    "String?"
   ]
  },
  {
   "cell_type": "code",
   "execution_count": 5,
   "metadata": {},
   "outputs": [
    {
     "name": "stdout",
     "output_type": "stream",
     "text": [
      "jingle bells jingle bells jingle all the way\n",
      "jingle\n",
      "3\n"
     ]
    }
   ],
   "source": [
    "s=input()\n",
    "sub=input()\n",
    "print(s.count(sub))"
   ]
  },
  {
   "cell_type": "markdown",
   "metadata": {},
   "source": [
    "Q9. Write the Python program to count repeated characters in a string.\n",
    "\n",
    "    Sample string: ' thequickbrownjumpsoverthelazydog '\n",
    "    \n",
    "    Expected output:\n",
    "    o 3\n",
    "    e 3\n",
    "    u 2\n",
    "    h 2\n",
    "    r 2\n",
    "    t 2"
   ]
  },
  {
   "cell_type": "code",
   "execution_count": 9,
   "metadata": {},
   "outputs": [
    {
     "name": "stdout",
     "output_type": "stream",
     "text": [
      " thequickbrownjumpsoverthelazydog \n",
      "t   2\n",
      "h   2\n",
      "e   3\n",
      "u   2\n",
      "r   2\n",
      "o   3\n"
     ]
    }
   ],
   "source": [
    "i=input()\n",
    "d={}\n",
    "for j in i:\n",
    "    if(j not in d and j !=\" \"):\n",
    "        d[j]=1\n",
    "    else:\n",
    "        if(j in d):\n",
    "            d[j]+=1\n",
    "for a in d:\n",
    "    if(d[a]>1):\n",
    "        print(a,\" \",d[a])"
   ]
  },
  {
   "cell_type": "markdown",
   "metadata": {},
   "source": [
    "Q10. Write the Python program to print the square and cube symbol in\n",
    "the area of a rectangle and volume of a cylinder?\n",
    "\n",
    "    Sample outputThe area of the rectangle is 1256.66cm2\n",
    "    The volume of the cylinder is 1254.725cm3\n"
   ]
  },
  {
   "cell_type": "code",
   "execution_count": 11,
   "metadata": {},
   "outputs": [
    {
     "name": "stdout",
     "output_type": "stream",
     "text": [
      "length of rectangle:100\n",
      "breadth of rectangle:123.45\n",
      "radiys of cylinder12.56\n",
      "height of cylinder11.34\n",
      "The area of rectangle:  12345.0\n",
      "The volume of cylinder 5620.08\n"
     ]
    }
   ],
   "source": [
    "import math\n",
    "length=float(input(\"length of rectangle:\"))\n",
    "breadth=float(input(\"breadth of rectangle:\"))\n",
    "radius=float(input(\"radiys of cylinder\"))\n",
    "height=float(input(\"height of cylinder\"))\n",
    "print(\"The area of rectangle: \",length*breadth)\n",
    "print(\"The volume of cylinder %0.2f\"%round(math.pi*radius**2*height,2))"
   ]
  },
  {
   "cell_type": "markdown",
   "metadata": {},
   "source": [
    "Q11. Write the Python program to check if a string contains all letters of\n",
    "the alphabet?"
   ]
  },
  {
   "cell_type": "code",
   "execution_count": 3,
   "metadata": {},
   "outputs": [
    {
     "name": "stdout",
     "output_type": "stream",
     "text": [
      "abcdeghjklopqrstuvxy\n",
      "f i m n w z "
     ]
    }
   ],
   "source": [
    "inp=input()\n",
    "c='abcdefghijklmnopqrstuvwxyz'\n",
    "for a in c:\n",
    "    if(a not in inp):\n",
    "        print(a,end=\" \")"
   ]
  },
  {
   "cell_type": "markdown",
   "metadata": {},
   "source": []
  },
  {
   "cell_type": "markdown",
   "metadata": {},
   "source": [
    "Q12. Write the Python program to find the second most repeated word\n",
    "in a given string?"
   ]
  },
  {
   "cell_type": "code",
   "execution_count": 5,
   "metadata": {},
   "outputs": [
    {
     "name": "stdout",
     "output_type": "stream",
     "text": [
      "hello my name is abc what is your name hello my name is bcd name exchange\n",
      "is\n"
     ]
    }
   ],
   "source": [
    "i=input().split()\n",
    "d={}\n",
    "m=''\n",
    "v=0\n",
    "for a in i:\n",
    "    if(a not in d):\n",
    "        d[a]=i.count(a)\n",
    "        if(i.count(a)>v):\n",
    "            m=a\n",
    "            v=i.count(a)\n",
    "\n",
    "    \n",
    "del d[m]\n",
    "g=0\n",
    "o=''\n",
    "for a in d:\n",
    "    if(d[a]>g):\n",
    "        g=d[a]\n",
    "        o=a\n",
    "print(o)"
   ]
  },
  {
   "cell_type": "markdown",
   "metadata": {},
   "source": [
    "Q13. Write the Python program to find the minimum window in the given\n",
    "string, which will contains all the characters of another given\n",
    "strings?\n",
    "\n",
    "    Example 1\n",
    "    Input : string1 = \" PRWSOERIUSFK \"\n",
    "    string2 = \" OSU \"\n",
    "    Output: Minimum window is \"OERIUS\""
   ]
  },
  {
   "cell_type": "code",
   "execution_count": 3,
   "metadata": {},
   "outputs": [
    {
     "name": "stdout",
     "output_type": "stream",
     "text": [
      "PRWSOERIUSFK\n",
      "OSU\n",
      "Minimum String is : SOERIU\n"
     ]
    }
   ],
   "source": [
    "f=input()\n",
    "c=input()\n",
    "\n",
    "def findSubString(string, pat):  \n",
    "  \n",
    "    len1 = len(string)  \n",
    "    len2 = len(pat)\n",
    "    if len1 < len2:  \n",
    "      \n",
    "        print(\"No such window exists\")  \n",
    "        return \"\"  \n",
    "  \n",
    "    hash_pat = [0] * 256\n",
    "    hash_str = [0] * 256  \n",
    "    for i in range(0, len2):  \n",
    "        hash_pat[ord(pat[i])] += 1\n",
    "  \n",
    "    start, start_index, min_len = 0, -1, float('inf')    \n",
    "    count = 0  \n",
    "    for j in range(0, len1):    \n",
    "        hash_str[ord(string[j])] += 1\n",
    "        if (hash_pat[ord(string[j])] != 0 and\n",
    "            hash_str[ord(string[j])] <= \n",
    "            hash_pat[ord(string[j])]):  \n",
    "            count += 1\n",
    "\n",
    "        if count == len2:  \n",
    "            while (hash_str[ord(string[start])] >  \n",
    "                   hash_pat[ord(string[start])] or\n",
    "                   hash_pat[ord(string[start])] == 0):  \n",
    "              \n",
    "                if (hash_str[ord(string[start])] >  \n",
    "                    hash_pat[ord(string[start])]):  \n",
    "                    hash_str[ord(string[start])] -= 1\n",
    "                start += 1\n",
    "            len_window = j - start + 1\n",
    "            if min_len > len_window:  \n",
    "              \n",
    "                min_len = len_window  \n",
    "                start_index = start  \n",
    "    if start_index == -1: \n",
    "        print(\"No such window exists\")  \n",
    "        return \"\"  \n",
    "    return string[start_index : start_index + min_len] \n",
    "\n",
    "\n",
    "print(\"Minimum String is :\",findSubString(f,c))"
   ]
  },
  {
   "cell_type": "markdown",
   "metadata": {},
   "source": [
    "Q14. Write the Python program to count number of substrings from a\n",
    "given string of lowercase alphabets with exactly k distinct (given)\n",
    "characters?\n",
    "\n",
    "    Input a string (lowercase alphabets): wolf\n",
    "    Input k: 4\n",
    "    Number of substrings with exactly 4 distinct characters: 1"
   ]
  },
  {
   "cell_type": "code",
   "execution_count": 11,
   "metadata": {},
   "outputs": [
    {
     "name": "stdout",
     "output_type": "stream",
     "text": [
      "wolf\n",
      "4\n",
      "Number of substrings with exactly  4  distinct characters:  1\n"
     ]
    }
   ],
   "source": [
    "c=input()\n",
    "k=int(input())\n",
    "s=0\n",
    "for i in range(len(c)-k):\n",
    "    l=0\n",
    "    n=''\n",
    "    while (c[i] not in n ):\n",
    "        n+=c[i]\n",
    "        i+=1\n",
    "        l+=1\n",
    "        if(l==k):\n",
    "                s+=1\n",
    "        if(i>=len(c)):\n",
    "            if(l==k):\n",
    "                s+=1\n",
    "            break\n",
    "\n",
    "if(len(c)==k):\n",
    "    print(\"Number of substrings with exactly \",k,\" distinct characters: \",1)\n",
    "else:\n",
    "    print(\"Number of substrings with exactly \", k,\" distinct characters: \",s)\n",
    "        \n",
    "    "
   ]
  },
  {
   "cell_type": "code",
   "execution_count": null,
   "metadata": {},
   "outputs": [],
   "source": []
  },
  {
   "cell_type": "markdown",
   "metadata": {},
   "source": [
    "Q15. Write the Python program to count number of substrings with same\n",
    "first and last characters of the given string?\n",
    "\n",
    "    Input a string: abcd\n",
    "    4\n"
   ]
  },
  {
   "cell_type": "code",
   "execution_count": 12,
   "metadata": {},
   "outputs": [
    {
     "name": "stdout",
     "output_type": "stream",
     "text": [
      "abbcaceghcakc\n",
      "6\n"
     ]
    }
   ],
   "source": [
    "n=input()\n",
    "s=n[0]\n",
    "e=s[-1]\n",
    "c=0\n",
    "t=0\n",
    "for i in range(len(n)):\n",
    "    if(n[i]==s):\n",
    "        c+=1\n",
    "    if(n[i]==e):\n",
    "        t+=c\n",
    "        \n",
    "print(t)"
   ]
  },
  {
   "cell_type": "code",
   "execution_count": null,
   "metadata": {},
   "outputs": [],
   "source": []
  },
  {
   "cell_type": "markdown",
   "metadata": {},
   "source": [
    "## Great Job!"
   ]
  }
 ],
 "metadata": {
  "kernelspec": {
   "display_name": "Python 3",
   "language": "python",
   "name": "python3"
  },
  "language_info": {
   "codemirror_mode": {
    "name": "ipython",
    "version": 3
   },
   "file_extension": ".py",
   "mimetype": "text/x-python",
   "name": "python",
   "nbconvert_exporter": "python",
   "pygments_lexer": "ipython3",
   "version": "3.7.4"
  }
 },
 "nbformat": 4,
 "nbformat_minor": 2
}
