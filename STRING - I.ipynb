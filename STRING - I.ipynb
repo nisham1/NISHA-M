{
 "cells": [
  {
   "cell_type": "code",
   "execution_count": 9,
   "metadata": {},
   "outputs": [],
   "source": [
    "\n",
    "s='This is a string\\n\\n\\n'\n",
    "\n",
    "s1=\" This is a string\"\n",
    "\n",
    "s2=\" \" \" This is a multiline string. \" \" \"\n",
    "\n",
    "s3= ' ' ' This is also a multiline string ' ' '\n"
   ]
  },
  {
   "cell_type": "code",
   "execution_count": 10,
   "metadata": {},
   "outputs": [
    {
     "name": "stdout",
     "output_type": "stream",
     "text": [
      " This is a string  This is a multiline string.  \n"
     ]
    }
   ],
   "source": [
    "#Concatenation\n",
    "\n",
    "print(s1+s2)"
   ]
  },
  {
   "cell_type": "code",
   "execution_count": 11,
   "metadata": {},
   "outputs": [
    {
     "name": "stdout",
     "output_type": "stream",
     "text": [
      " This is a string This is a string\n"
     ]
    }
   ],
   "source": [
    "#Replication\n",
    "\n",
    "print(s1*2)"
   ]
  },
  {
   "cell_type": "code",
   "execution_count": 5,
   "metadata": {},
   "outputs": [
    {
     "name": "stdout",
     "output_type": "stream",
     "text": [
      " Length of the string  19\n"
     ]
    }
   ],
   "source": [
    "#including space and escape sequence\n",
    "\n",
    "print(\" Length of the string \",len(s)) \n"
   ]
  },
  {
   "cell_type": "code",
   "execution_count": 7,
   "metadata": {},
   "outputs": [
    {
     "name": "stdout",
     "output_type": "stream",
     "text": [
      " Slicing  \n",
      "\n",
      "\n",
      "gnirts a si sihT\n"
     ]
    }
   ],
   "source": [
    "#SLICING IN PYTHON\n",
    "\n",
    "print(\" Slicing \",s[::-1])"
   ]
  },
  {
   "cell_type": "code",
   "execution_count": 9,
   "metadata": {},
   "outputs": [
    {
     "name": "stdout",
     "output_type": "stream",
     "text": [
      "True\n",
      "False\n"
     ]
    }
   ],
   "source": [
    "# MEMBERSHOP OPERATION\n",
    "\n",
    "print(\"T\" in s)\n",
    "\n",
    "print(\"M\" in s)"
   ]
  },
  {
   "cell_type": "code",
   "execution_count": 10,
   "metadata": {},
   "outputs": [
    {
     "name": "stdout",
     "output_type": "stream",
     "text": [
      "T\n",
      "h\n",
      "i\n",
      "s\n",
      " \n",
      "i\n",
      "s\n",
      " \n",
      "a\n",
      " \n",
      "s\n",
      "t\n",
      "r\n",
      "i\n",
      "n\n",
      "g\n",
      "\n",
      "\n",
      "\n",
      "\n",
      "\n",
      "\n"
     ]
    }
   ],
   "source": [
    "#LOOPING \n",
    "\n",
    "for i in s:\n",
    "    \n",
    "    print(i)"
   ]
  },
  {
   "cell_type": "code",
   "execution_count": 1,
   "metadata": {},
   "outputs": [
    {
     "name": "stdout",
     "output_type": "stream",
     "text": [
      "It's alright.\n",
      "This will insert one \\ (backslash).\n",
      "Hello\n",
      "\n",
      "World!\n",
      "Hello\tWorld!\n",
      "Hello \bWorld!\n",
      "Hello\n",
      "Hello\n"
     ]
    }
   ],
   "source": [
    "#ESCAPE SEQUENCE \n",
    "\n",
    "txt = 'It\\'s alright.'\n",
    "print(txt) \n",
    "\n",
    "txt = \"This will insert one \\\\ (backslash).\"\n",
    "print(txt) \n",
    "\n",
    "txt = \"Hello\\n\"\n",
    "print(txt)\n",
    "\n",
    "txt = \"Hello\\rWorld!\"\n",
    "print(txt) \n",
    "\n",
    "txt = \"Hello\\tWorld!\"\n",
    "print(txt) \n",
    "\n",
    "txt = \"Hello \\bWorld!\"\n",
    "print(txt) \n",
    "\n",
    "txt = \"\\110\\145\\154\\154\\157\"\n",
    "print(txt) \n",
    "\n",
    "txt = \"\\x48\\x65\\x6c\\x6c\\x6f\"\n",
    "print(txt) \n",
    "\n"
   ]
  },
  {
   "cell_type": "code",
   "execution_count": 3,
   "metadata": {},
   "outputs": [
    {
     "name": "stdout",
     "output_type": "stream",
     "text": [
      "['C', 'a', 'e', 'k']\n"
     ]
    }
   ],
   "source": [
    "print(sorted(\"Cake is baked.\"))"
   ]
  },
  {
   "cell_type": "code",
   "execution_count": 4,
   "metadata": {},
   "outputs": [
    {
     "name": "stdout",
     "output_type": "stream",
     "text": [
      "Value of pi is3.14\n"
     ]
    }
   ],
   "source": [
    "#format\n",
    "\n",
    "print(\"Value of pi is %0.2f\"%(3.1421))"
   ]
  },
  {
   "cell_type": "code",
   "execution_count": 6,
   "metadata": {},
   "outputs": [
    {
     "name": "stdout",
     "output_type": "stream",
     "text": [
      "[(0, 'A'), (1, 'b'), (2, 'c')]\n"
     ]
    }
   ],
   "source": [
    "#enumerate\n",
    "\n",
    "print(list(enumerate(\"Abc\")))"
   ]
  },
  {
   "cell_type": "code",
   "execution_count": 7,
   "metadata": {},
   "outputs": [
    {
     "name": "stdout",
     "output_type": "stream",
     "text": [
      "Name\\n\n"
     ]
    }
   ],
   "source": [
    "#raw string\n",
    "\n",
    "print(r'Name\\n')"
   ]
  },
  {
   "cell_type": "code",
   "execution_count": 12,
   "metadata": {},
   "outputs": [
    {
     "name": "stdout",
     "output_type": "stream",
     "text": [
      "Long ago there lived a sage\n"
     ]
    }
   ],
   "source": [
    "#Capitalize\n",
    "\n",
    "sw=\"long ago there lived a sage\"\n",
    "\n",
    "print(sw.capitalize())"
   ]
  },
  {
   "cell_type": "code",
   "execution_count": 16,
   "metadata": {},
   "outputs": [
    {
     "name": "stdout",
     "output_type": "stream",
     "text": [
      "there is a ball \n"
     ]
    }
   ],
   "source": [
    "#Casefold\n",
    "\n",
    "cf=\"THERE IS A BALL \"\n",
    "\n",
    "print(cf.casefold())"
   ]
  },
  {
   "cell_type": "code",
   "execution_count": 24,
   "metadata": {},
   "outputs": [
    {
     "name": "stdout",
     "output_type": "stream",
     "text": [
      "                                                       Title                                                       \n"
     ]
    }
   ],
   "source": [
    "#center\n",
    "\n",
    "c=\"Title\"\n",
    "\n",
    "print(c.center(115))"
   ]
  },
  {
   "cell_type": "code",
   "execution_count": 25,
   "metadata": {},
   "outputs": [
    {
     "name": "stdout",
     "output_type": "stream",
     "text": [
      "2\n"
     ]
    }
   ],
   "source": [
    "#4.count\n",
    "\n",
    "c=\"ball goes round and round\"\n",
    "\n",
    "print(c.count(\"round\"))"
   ]
  },
  {
   "cell_type": "code",
   "execution_count": 30,
   "metadata": {},
   "outputs": [
    {
     "name": "stdout",
     "output_type": "stream",
     "text": [
      "b'Hello let us encode \\xc3\\xa5 '\n"
     ]
    }
   ],
   "source": [
    "#encode\n",
    "\n",
    "e=\"Hello let us encode å \"\n",
    "\n",
    "print(e.encode())"
   ]
  }
 ],
 "metadata": {
  "kernelspec": {
   "display_name": "Python 3",
   "language": "python",
   "name": "python3"
  },
  "language_info": {
   "codemirror_mode": {
    "name": "ipython",
    "version": 3
   },
   "file_extension": ".py",
   "mimetype": "text/x-python",
   "name": "python",
   "nbconvert_exporter": "python",
   "pygments_lexer": "ipython3",
   "version": "3.7.4"
  }
 },
 "nbformat": 4,
 "nbformat_minor": 2
}
