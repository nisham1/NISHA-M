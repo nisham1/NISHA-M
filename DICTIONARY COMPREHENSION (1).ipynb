{
 "cells": [
  {
   "cell_type": "markdown",
   "metadata": {},
   "source": [
    "# Dictionary Comprehension !"
   ]
  },
  {
   "cell_type": "code",
   "execution_count": 3,
   "metadata": {},
   "outputs": [
    {
     "name": "stdout",
     "output_type": "stream",
     "text": [
      "{1: 1, 2: 4, 3: 9, 4: 16}\n"
     ]
    }
   ],
   "source": [
    "dictionary={1:'a',2:'b',3:'c',4:'d'}\n",
    "\n",
    "d={ x : x**2 for x in dictionary.keys()}\n",
    "\n",
    "print(d)"
   ]
  },
  {
   "cell_type": "markdown",
   "metadata": {},
   "source": [
    "## Looping through the key, value pair of a dictionary"
   ]
  },
  {
   "cell_type": "code",
   "execution_count": 7,
   "metadata": {},
   "outputs": [
    {
     "name": "stdout",
     "output_type": "stream",
     "text": [
      "\n",
      "OUTPUT:\n",
      "\n",
      "key is 1\n",
      "Value is a\n",
      "\n",
      "key is 2\n",
      "Value is b\n",
      "\n",
      "key is 3\n",
      "Value is c\n",
      "\n",
      "key is 4\n",
      "Value is d\n",
      "\n"
     ]
    }
   ],
   "source": [
    "print(\"\\nOUTPUT:\\n\")\n",
    "for key,value in dictionary.items():\n",
    "    print(\"key is {0}\\nValue is {1}\\n\".format(key,value))"
   ]
  },
  {
   "cell_type": "markdown",
   "metadata": {},
   "source": [
    "## Enumerate "
   ]
  },
  {
   "cell_type": "code",
   "execution_count": 11,
   "metadata": {},
   "outputs": [
    {
     "name": "stdout",
     "output_type": "stream",
     "text": [
      "[(1, 'a'), (2, 'b'), (3, 'c'), (4, 'd')] \n",
      "\n",
      "((20, 'a'), (21, 'b'), (22, 'c'), (23, 'd')) \n",
      "\n",
      "{(13, 'b'), (15, 'c'), (14, 'd'), (12, 'a')} \n",
      "\n"
     ]
    }
   ],
   "source": [
    "#enumerate (iterable , start=0)\n",
    "\n",
    "l=list(\"abcd\")\n",
    "\n",
    "t=tuple(\"abcd\")\n",
    "\n",
    "s=set('abcd')\n",
    "\n",
    "print(list(enumerate(l,start=1)),'\\n')\n",
    "\n",
    "print(tuple(enumerate(t,start=20)),'\\n')\n",
    "\n",
    "print(set(enumerate(s,start=12)),'\\n')\n"
   ]
  },
  {
   "cell_type": "markdown",
   "metadata": {},
   "source": [
    "## Zip Function"
   ]
  },
  {
   "cell_type": "code",
   "execution_count": 1,
   "metadata": {},
   "outputs": [
    {
     "name": "stdout",
     "output_type": "stream",
     "text": [
      "[(0, 2), (1, 3)]\n"
     ]
    }
   ],
   "source": [
    "list_1=[0,1]\n",
    "\n",
    "list_2=[2,3,4]\n",
    "\n",
    "z=zip(list_1,list_2)\n",
    "\n",
    "print(list(z))"
   ]
  },
  {
   "cell_type": "code",
   "execution_count": 2,
   "metadata": {},
   "outputs": [
    {
     "name": "stdout",
     "output_type": "stream",
     "text": [
      "[(0,), (1,)]\n"
     ]
    }
   ],
   "source": [
    "z1=zip(list_1)\n",
    "\n",
    "print(list(z1))"
   ]
  },
  {
   "cell_type": "markdown",
   "metadata": {},
   "source": [
    "## Unzip "
   ]
  },
  {
   "cell_type": "code",
   "execution_count": 23,
   "metadata": {},
   "outputs": [
    {
     "name": "stdout",
     "output_type": "stream",
     "text": [
      "[0, 1] [2, 3]\n"
     ]
    }
   ],
   "source": [
    "uz1,uz2=zip(*zip([0,1],[2,3,4]))\n",
    "\n",
    "print(list(uz1),list(uz2))"
   ]
  },
  {
   "cell_type": "markdown",
   "metadata": {},
   "source": [
    "## Reversed Function"
   ]
  },
  {
   "cell_type": "code",
   "execution_count": 24,
   "metadata": {},
   "outputs": [
    {
     "name": "stdout",
     "output_type": "stream",
     "text": [
      "9\n",
      "7\n",
      "5\n",
      "3\n",
      "1\n"
     ]
    }
   ],
   "source": [
    "for i in reversed(range(1, 10, 2)):\n",
    "    \n",
    "        print(i)"
   ]
  },
  {
   "cell_type": "markdown",
   "metadata": {},
   "source": [
    "## Sorted Function"
   ]
  },
  {
   "cell_type": "code",
   "execution_count": 26,
   "metadata": {},
   "outputs": [
    {
     "name": "stdout",
     "output_type": "stream",
     "text": [
      "apple\n",
      "\n",
      "apple\n",
      "\n",
      "banana\n",
      "\n",
      "orange\n",
      "\n",
      "orange\n",
      "\n",
      "pear\n",
      "\n"
     ]
    }
   ],
   "source": [
    "basket = ['apple', 'orange', 'apple', 'pear', 'orange', 'banana']\n",
    "\n",
    "for i in sorted(basket):\n",
    "    \n",
    "    print(i+\"\\n\")"
   ]
  },
  {
   "cell_type": "markdown",
   "metadata": {},
   "source": [
    "## To loop over unique elements of the sequence in sorted order"
   ]
  },
  {
   "cell_type": "code",
   "execution_count": 28,
   "metadata": {},
   "outputs": [
    {
     "name": "stdout",
     "output_type": "stream",
     "text": [
      "apple\n",
      "\n",
      "banana\n",
      "\n",
      "orange\n",
      "\n",
      "pear\n",
      "\n"
     ]
    }
   ],
   "source": [
    "basket = ['apple', 'orange', 'apple', 'pear', 'orange', 'banana']\n",
    "\n",
    "for f in sorted(set(basket)):\n",
    "    \n",
    "     print(f+\"\\n\")"
   ]
  }
 ],
 "metadata": {
  "kernelspec": {
   "display_name": "Python 3",
   "language": "python",
   "name": "python3"
  },
  "language_info": {
   "codemirror_mode": {
    "name": "ipython",
    "version": 3
   },
   "file_extension": ".py",
   "mimetype": "text/x-python",
   "name": "python",
   "nbconvert_exporter": "python",
   "pygments_lexer": "ipython3",
   "version": "3.7.4"
  }
 },
 "nbformat": 4,
 "nbformat_minor": 2
}
